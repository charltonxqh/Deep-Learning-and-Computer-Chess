{
 "cells": [
  {
   "cell_type": "markdown",
   "metadata": {},
   "source": [
    "# Deep Learning and Computer Chess"
   ]
  },
  {
   "cell_type": "code",
   "execution_count": 13,
   "metadata": {},
   "outputs": [],
   "source": [
    "import torch\n",
    "import torch.nn as nn\n",
    "import torch.nn.functional as F\n",
    "import torch.optim as optim\n",
    "\n",
    "import chess\n",
    "import pandas as pd\n",
    "import numpy as np\n",
    "from sklearn.model_selection import train_test_split"
   ]
  },
  {
   "cell_type": "code",
   "execution_count": 19,
   "metadata": {},
   "outputs": [
    {
     "data": {
      "text/html": [
       "<div>\n",
       "<style scoped>\n",
       "    .dataframe tbody tr th:only-of-type {\n",
       "        vertical-align: middle;\n",
       "    }\n",
       "\n",
       "    .dataframe tbody tr th {\n",
       "        vertical-align: top;\n",
       "    }\n",
       "\n",
       "    .dataframe thead th {\n",
       "        text-align: right;\n",
       "    }\n",
       "</style>\n",
       "<table border=\"1\" class=\"dataframe\">\n",
       "  <thead>\n",
       "    <tr style=\"text-align: right;\">\n",
       "      <th></th>\n",
       "      <th>FEN</th>\n",
       "      <th>Evaluation</th>\n",
       "      <th>Category</th>\n",
       "    </tr>\n",
       "  </thead>\n",
       "  <tbody>\n",
       "    <tr>\n",
       "      <th>0</th>\n",
       "      <td>r3k3/p4n1p/3p1Bq1/3P4/2p2P2/7P/P3Q1P1/5R1K b q...</td>\n",
       "      <td>5.2</td>\n",
       "      <td>White is winning</td>\n",
       "    </tr>\n",
       "    <tr>\n",
       "      <th>1</th>\n",
       "      <td>r3k3/p4n1p/3p1Bq1/3P4/2p2P2/7P/P3Q1P1/5R1K b q...</td>\n",
       "      <td>5.2</td>\n",
       "      <td>White is winning</td>\n",
       "    </tr>\n",
       "    <tr>\n",
       "      <th>2</th>\n",
       "      <td>4Q3/7k/2p4p/1p1qP1p1/3B1nR1/2P4P/3r2P1/6K1 w -...</td>\n",
       "      <td>0.0</td>\n",
       "      <td>Even</td>\n",
       "    </tr>\n",
       "    <tr>\n",
       "      <th>3</th>\n",
       "      <td>4Q3/7k/2p4p/1p1qP1p1/3B1nR1/2P4P/3r2P1/6K1 w -...</td>\n",
       "      <td>0.0</td>\n",
       "      <td>Even</td>\n",
       "    </tr>\n",
       "    <tr>\n",
       "      <th>4</th>\n",
       "      <td>2k4r/ppp2p2/2b2B2/7p/6pP/2P4P/PP3Nq1/R5K1 w - ...</td>\n",
       "      <td>0.0</td>\n",
       "      <td>Even</td>\n",
       "    </tr>\n",
       "  </tbody>\n",
       "</table>\n",
       "</div>"
      ],
      "text/plain": [
       "                                                 FEN  Evaluation  \\\n",
       "0  r3k3/p4n1p/3p1Bq1/3P4/2p2P2/7P/P3Q1P1/5R1K b q...         5.2   \n",
       "1  r3k3/p4n1p/3p1Bq1/3P4/2p2P2/7P/P3Q1P1/5R1K b q...         5.2   \n",
       "2  4Q3/7k/2p4p/1p1qP1p1/3B1nR1/2P4P/3r2P1/6K1 w -...         0.0   \n",
       "3  4Q3/7k/2p4p/1p1qP1p1/3B1nR1/2P4P/3r2P1/6K1 w -...         0.0   \n",
       "4  2k4r/ppp2p2/2b2B2/7p/6pP/2P4P/PP3Nq1/R5K1 w - ...         0.0   \n",
       "\n",
       "           Category  \n",
       "0  White is winning  \n",
       "1  White is winning  \n",
       "2              Even  \n",
       "3              Even  \n",
       "4              Even  "
      ]
     },
     "execution_count": 19,
     "metadata": {},
     "output_type": "execute_result"
    }
   ],
   "source": [
    "df = pd.read_csv('../output/evaluations.csv')\n",
    "df.head()"
   ]
  },
  {
   "cell_type": "code",
   "execution_count": 20,
   "metadata": {},
   "outputs": [
    {
     "data": {
      "text/plain": [
       "(76916, 3)"
      ]
     },
     "execution_count": 20,
     "metadata": {},
     "output_type": "execute_result"
    }
   ],
   "source": [
    "df.shape"
   ]
  },
  {
   "cell_type": "code",
   "execution_count": 21,
   "metadata": {},
   "outputs": [
    {
     "data": {
      "text/plain": [
       "FEN           0\n",
       "Evaluation    0\n",
       "Category      0\n",
       "dtype: int64"
      ]
     },
     "execution_count": 21,
     "metadata": {},
     "output_type": "execute_result"
    }
   ],
   "source": [
    "df.isnull().sum()"
   ]
  },
  {
   "cell_type": "code",
   "execution_count": 22,
   "metadata": {},
   "outputs": [],
   "source": [
    "def fen_to_bitstring(fen):\n",
    "    board = chess.Board(fen)\n",
    "\n",
    "    piece_types = {\n",
    "        'P': 0,\n",
    "        'N': 1,\n",
    "        'B': 2,\n",
    "        'R': 3,\n",
    "        'Q': 4,\n",
    "        'K': 5,\n",
    "        'p': 6,\n",
    "        'n': 7,\n",
    "        'b': 8,\n",
    "        'r': 9,\n",
    "        'q': 10,\n",
    "        'k': 11\n",
    "    }\n",
    "\n",
    "    bitboard = np.zeros(768, dtype=int)\n",
    "\n",
    "    for square in chess.SQUARES:\n",
    "        piece = board.piece_at(square)\n",
    "        if piece:\n",
    "            piece_index = piece_types[piece.symbol()]\n",
    "            bitboard[square * 12 + piece_index] = 1\n",
    "\n",
    "    side_to_move = 1 if board.turn == chess.WHITE else 0\n",
    "\n",
    "    castling_rights = [\n",
    "        1 if board.has_kingside_castling_rights(chess.WHITE) else 0,\n",
    "        1 if board.has_queenside_castling_rights(chess.WHITE) else 0,\n",
    "        1 if board.has_kingside_castling_rights(chess.BLACK) else 0,\n",
    "        1 if board.has_queenside_castling_rights(chess.BLACK) else 0\n",
    "    ]\n",
    "\n",
    "    bitstring = np.concatenate((bitboard, [side_to_move], castling_rights))\n",
    "\n",
    "    return bitstring\n"
   ]
  },
  {
   "cell_type": "code",
   "execution_count": 23,
   "metadata": {},
   "outputs": [
    {
     "data": {
      "text/html": [
       "<div>\n",
       "<style scoped>\n",
       "    .dataframe tbody tr th:only-of-type {\n",
       "        vertical-align: middle;\n",
       "    }\n",
       "\n",
       "    .dataframe tbody tr th {\n",
       "        vertical-align: top;\n",
       "    }\n",
       "\n",
       "    .dataframe thead th {\n",
       "        text-align: right;\n",
       "    }\n",
       "</style>\n",
       "<table border=\"1\" class=\"dataframe\">\n",
       "  <thead>\n",
       "    <tr style=\"text-align: right;\">\n",
       "      <th></th>\n",
       "      <th>FEN</th>\n",
       "      <th>Evaluation</th>\n",
       "      <th>Category</th>\n",
       "      <th>bitstring</th>\n",
       "    </tr>\n",
       "  </thead>\n",
       "  <tbody>\n",
       "    <tr>\n",
       "      <th>0</th>\n",
       "      <td>r3k3/p4n1p/3p1Bq1/3P4/2p2P2/7P/P3Q1P1/5R1K b q...</td>\n",
       "      <td>5.2</td>\n",
       "      <td>White is winning</td>\n",
       "      <td>[0, 0, 0, 0, 0, 0, 0, 0, 0, 0, 0, 0, 0, 0, 0, ...</td>\n",
       "    </tr>\n",
       "    <tr>\n",
       "      <th>1</th>\n",
       "      <td>r3k3/p4n1p/3p1Bq1/3P4/2p2P2/7P/P3Q1P1/5R1K b q...</td>\n",
       "      <td>5.2</td>\n",
       "      <td>White is winning</td>\n",
       "      <td>[0, 0, 0, 0, 0, 0, 0, 0, 0, 0, 0, 0, 0, 0, 0, ...</td>\n",
       "    </tr>\n",
       "    <tr>\n",
       "      <th>2</th>\n",
       "      <td>4Q3/7k/2p4p/1p1qP1p1/3B1nR1/2P4P/3r2P1/6K1 w -...</td>\n",
       "      <td>0.0</td>\n",
       "      <td>Even</td>\n",
       "      <td>[0, 0, 0, 0, 0, 0, 0, 0, 0, 0, 0, 0, 0, 0, 0, ...</td>\n",
       "    </tr>\n",
       "    <tr>\n",
       "      <th>3</th>\n",
       "      <td>4Q3/7k/2p4p/1p1qP1p1/3B1nR1/2P4P/3r2P1/6K1 w -...</td>\n",
       "      <td>0.0</td>\n",
       "      <td>Even</td>\n",
       "      <td>[0, 0, 0, 0, 0, 0, 0, 0, 0, 0, 0, 0, 0, 0, 0, ...</td>\n",
       "    </tr>\n",
       "    <tr>\n",
       "      <th>4</th>\n",
       "      <td>2k4r/ppp2p2/2b2B2/7p/6pP/2P4P/PP3Nq1/R5K1 w - ...</td>\n",
       "      <td>0.0</td>\n",
       "      <td>Even</td>\n",
       "      <td>[0, 0, 0, 1, 0, 0, 0, 0, 0, 0, 0, 0, 0, 0, 0, ...</td>\n",
       "    </tr>\n",
       "  </tbody>\n",
       "</table>\n",
       "</div>"
      ],
      "text/plain": [
       "                                                 FEN  Evaluation  \\\n",
       "0  r3k3/p4n1p/3p1Bq1/3P4/2p2P2/7P/P3Q1P1/5R1K b q...         5.2   \n",
       "1  r3k3/p4n1p/3p1Bq1/3P4/2p2P2/7P/P3Q1P1/5R1K b q...         5.2   \n",
       "2  4Q3/7k/2p4p/1p1qP1p1/3B1nR1/2P4P/3r2P1/6K1 w -...         0.0   \n",
       "3  4Q3/7k/2p4p/1p1qP1p1/3B1nR1/2P4P/3r2P1/6K1 w -...         0.0   \n",
       "4  2k4r/ppp2p2/2b2B2/7p/6pP/2P4P/PP3Nq1/R5K1 w - ...         0.0   \n",
       "\n",
       "           Category                                          bitstring  \n",
       "0  White is winning  [0, 0, 0, 0, 0, 0, 0, 0, 0, 0, 0, 0, 0, 0, 0, ...  \n",
       "1  White is winning  [0, 0, 0, 0, 0, 0, 0, 0, 0, 0, 0, 0, 0, 0, 0, ...  \n",
       "2              Even  [0, 0, 0, 0, 0, 0, 0, 0, 0, 0, 0, 0, 0, 0, 0, ...  \n",
       "3              Even  [0, 0, 0, 0, 0, 0, 0, 0, 0, 0, 0, 0, 0, 0, 0, ...  \n",
       "4              Even  [0, 0, 0, 1, 0, 0, 0, 0, 0, 0, 0, 0, 0, 0, 0, ...  "
      ]
     },
     "execution_count": 23,
     "metadata": {},
     "output_type": "execute_result"
    }
   ],
   "source": [
    "df['bitstring'] = df['FEN'].apply(lambda x: fen_to_bitstring(x))\n",
    "df.head()"
   ]
  },
  {
   "cell_type": "code",
   "execution_count": null,
   "metadata": {},
   "outputs": [],
   "source": [
    "class DBN(nn.Module):\n",
    "    def __init__(self):\n",
    "        super(DBN, self).__init__()\n",
    "        self.dbn = nn.Sequential(\n",
    "            nn.Linear(773, 600),\n",
    "            nn.ReLU(),\n",
    "            nn.Linear(600, 400),\n",
    "            nn.ReLU(),\n",
    "            nn.Linear(400, 200),\n",
    "            nn.ReLU(),\n",
    "            nn.Linear(200, 100),\n",
    "        )\n",
    "\n",
    "    def forward(self, x):\n",
    "        return self.dbn(x)"
   ]
  },
  {
   "cell_type": "code",
   "execution_count": 10,
   "metadata": {},
   "outputs": [],
   "source": [
    "class DeepChess(nn.Module):\n",
    "    def __init__(self):\n",
    "        super(DeepChess, self).__init__()\n",
    "        self.branch = nn.DBN()\n",
    "\n",
    "        self.merge_layers = nn.Sequential(\n",
    "            nn.Linear(400, 200),\n",
    "            nn.ReLU(),\n",
    "            nn.Linear(200, 100),\n",
    "            nn.ReLU(),\n",
    "            nn.Linear(100, 2)\n",
    "        )\n",
    "\n",
    "    def forward(self, x1, x2):\n",
    "        x1 = self.branch(x1)\n",
    "        x2 = self.branch(x2)\n",
    "\n",
    "        x = torch.cat((x1, x2), dim=1)\n",
    "\n",
    "        return self.merge_layers(x)"
   ]
  },
  {
   "cell_type": "code",
   "execution_count": null,
   "metadata": {},
   "outputs": [],
   "source": []
  }
 ],
 "metadata": {
  "kernelspec": {
   "display_name": "venv",
   "language": "python",
   "name": "python3"
  },
  "language_info": {
   "codemirror_mode": {
    "name": "ipython",
    "version": 3
   },
   "file_extension": ".py",
   "mimetype": "text/x-python",
   "name": "python",
   "nbconvert_exporter": "python",
   "pygments_lexer": "ipython3",
   "version": "3.12.9"
  }
 },
 "nbformat": 4,
 "nbformat_minor": 2
}
